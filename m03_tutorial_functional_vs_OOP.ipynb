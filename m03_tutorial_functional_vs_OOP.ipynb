{
 "cells": [
  {
   "cell_type": "code",
   "execution_count": 21,
   "metadata": {},
   "outputs": [
    {
     "name": "stdout",
     "output_type": "stream",
     "text": [
      "[0, 0, 0, 1, 1, 1, 1, 1, 1, 1, 2, 2, 2, 2, 2]\n",
      "[0, 0, 1, 1, 2, 2]\n",
      "[0, 1, 2]\n"
     ]
    }
   ],
   "source": [
    "\"\"\"\n",
    "Author: Terry Lovegrove\n",
    "File: functional_vs_OOP.ipynb\n",
    "Date: 2025-02-02\n",
    "Assignment: Module 3 Tutorial - Functional vs OOP Programming\n",
    "Purpose: To loop through a list of 0s, 1s, and 2s and sort them in ascending order\n",
    "without using the built-in sort function.\n",
    "\"\"\"\n",
    "\n",
    "\n",
    "# Sorting an array of 0s, 1s, and 2s\n",
    "\n",
    "\n",
    "# Less efficient way to sort the list\n",
    "class Solution:\n",
    "    # Function to sort an array of 0s, 1s, and 2s\n",
    "    def sort012(self, arr):\n",
    "        # outer loop ensures the whole list is iterated through\n",
    "        for i in range(len(arr)):\n",
    "            # inner loop shrinks with each iteration as it moves to the right based on outer loop iteration\n",
    "            for j in range(len(arr) - 1 - i):\n",
    "                \n",
    "                # compare the current item to the item to the right\n",
    "                # if the item to the right is smaller, swap the values of the compared items\n",
    "                \n",
    "                if arr[j] > arr[j + 1]:\n",
    "                    arr[j], arr[j + 1] = arr[j + 1], arr[j]\n",
    "        return arr\n",
    "            # if no inner loop swap happens, the list is sorted. Time to exit\n",
    "# Test cases\n",
    "test1 = Solution()\n",
    "print(test1.sort012([1,1,1,0,2,2,1,2,1,0,2,1,0,2,1]))\n",
    "print(test1.sort012([2,0,2,1,1,0]))\n",
    "print(test1.sort012([2,1,0]))\n",
    "\n"
   ]
  },
  {
   "cell_type": "code",
   "execution_count": 24,
   "metadata": {},
   "outputs": [
    {
     "name": "stdout",
     "output_type": "stream",
     "text": [
      "[0, 0, 0, 1, 1, 1, 1, 1, 1, 1, 2, 2, 2, 2, 2]\n",
      "[0, 0, 1, 1, 2, 2]\n",
      "[0, 1, 2]\n"
     ]
    }
   ],
   "source": [
    "# More efficient way to sort the list\n",
    "# Based on reviewing the Dutch National Flag solution in the editorial\n",
    "\n",
    "def sort012(arr):\n",
    "    # initialize the low, mid, and high pointers\n",
    "    # low and mid start at the beginning of the list\n",
    "    # high starts at the end of the list\n",
    "    low = 0\n",
    "    mid = 0\n",
    "    high = len(arr) - 1\n",
    "    \n",
    "    while mid <= high:\n",
    "        # if the current item is 0, swap it with the low pointer\n",
    "        if arr[mid] == 0:\n",
    "            arr[low], arr[mid] = arr[mid], arr[low]\n",
    "            # move the low and mid pointers to the right\n",
    "            low += 1\n",
    "            mid += 1\n",
    "        # if the current item is 1, move to the next item\n",
    "        elif arr[mid] == 1:\n",
    "            mid += 1\n",
    "        # if the current item is 2, swap it with the high pointer\n",
    "        # and move the high pointer to the left to shrink the list\n",
    "        else:\n",
    "            arr[mid], arr[high] = arr[high], arr[mid]\n",
    "            high -= 1\n",
    "    return arr\n",
    "\n",
    "# Test cases\n",
    "print(sort012([1,1,1,0,2,2,1,2,1,0,2,1,0,2,1]))\n",
    "print(sort012([2,0,2,1,1,0]))\n",
    "print(sort012([2,1,0]))"
   ]
  },
  {
   "cell_type": "code",
   "execution_count": 26,
   "metadata": {},
   "outputs": [
    {
     "name": "stdout",
     "output_type": "stream",
     "text": [
      "4\n",
      "-1\n",
      "0\n",
      "3\n"
     ]
    }
   ],
   "source": [
    "# Binary search using recursion\n",
    "\n",
    "class Solution:\n",
    "    def binarysearch(self, arr, k):\n",
    "        # base case to exit the recursion if the list is empty\n",
    "        \n",
    "        if not arr:\n",
    "            return -1\n",
    "        \n",
    "        mid = len(arr) // 2\n",
    "        \n",
    "        # if the middle item is the target, return the index of the target\n",
    "        if arr[mid] == k:\n",
    "            return arr.index(k)\n",
    "        \n",
    "        # if the middle item is less than the target, search the right half of the list\n",
    "        \n",
    "        elif arr[mid] < k:\n",
    "            result = self.binarysearch(arr[mid + 1:], k)\n",
    "            return result + mid + 1 if result != -1 else -1\n",
    "            \n",
    "        else:\n",
    "            return self.binarysearch(arr[:mid], k)\n",
    "        \n",
    "# Test cases\n",
    "test2 = Solution()\n",
    "print(test2.binarysearch([1,2,3,4,5,6,7,8,9], 5))\n",
    "print(test2.binarysearch([1,2,3,4,5,6,7,8,9], 10))\n",
    "print(test2.binarysearch([1,2,3,4,5,6,7,8,9], 1))\n",
    "print(test2.binarysearch([1,2,3,4,4,4,7,8,9], 4))"
   ]
  }
 ],
 "metadata": {
  "kernelspec": {
   "display_name": "Python 3",
   "language": "python",
   "name": "python3"
  },
  "language_info": {
   "codemirror_mode": {
    "name": "ipython",
    "version": 3
   },
   "file_extension": ".py",
   "mimetype": "text/x-python",
   "name": "python",
   "nbconvert_exporter": "python",
   "pygments_lexer": "ipython3",
   "version": "3.12.2"
  }
 },
 "nbformat": 4,
 "nbformat_minor": 2
}
