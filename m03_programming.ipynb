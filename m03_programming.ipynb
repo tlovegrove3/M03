{
 "cells": [
  {
   "cell_type": "code",
   "execution_count": 106,
   "id": "eb9a8a99-d6d6-4daf-8ab3-2ab69e09d39e",
   "metadata": {},
   "outputs": [
    {
     "name": "stdout",
     "output_type": "stream",
     "text": [
      "['mozzarella', 'Cinderella', 'salmonella']\n",
      "['MOZZARELLA', 'Cinderella', 'salmonella']\n",
      "['MOZZARELLA', 'Cinderella']\n"
     ]
    }
   ],
   "source": [
    "'''\n",
    "Terry Lovegrove\n",
    "SDEV 220\n",
    "2025-02-01\n",
    "Module 3 Programming assignment.\n",
    "\n",
    "'''\n",
    "# 7.4 - 7.7\n",
    "things = ['mozzarella', 'cinderella', 'salmonella']\n",
    "things[1] = things[1].title()\n",
    "print(things)\n",
    "things[0] = things[0].upper()\n",
    "print(things)\n",
    "things.pop(2)\n",
    "print(things)"
   ]
  },
  {
   "cell_type": "code",
   "execution_count": 48,
   "id": "ed694a5d-efcb-4025-985b-6edc01ca41bb",
   "metadata": {},
   "outputs": [
    {
     "data": {
      "text/plain": [
       "['Harry', 'Ron', 'Hermione']"
      ]
     },
     "execution_count": 48,
     "metadata": {},
     "output_type": "execute_result"
    }
   ],
   "source": [
    "# 9.1\n",
    "def good():\n",
    "    return ['Harry', 'Ron', 'Hermione']\n",
    "good()"
   ]
  },
  {
   "cell_type": "code",
   "execution_count": 104,
   "id": "33e47778-4063-48b7-a4fc-da4ba2f25df6",
   "metadata": {},
   "outputs": [
    {
     "name": "stdout",
     "output_type": "stream",
     "text": [
      "[1, 3, 5, 7, 9]\n",
      "5\n"
     ]
    }
   ],
   "source": [
    "# 9.2\n",
    "def get_odds(numbers):\n",
    "    odds = [num for num in range(numbers) if num % 2 != 0]\n",
    "    return odds\n",
    "odds = get_odds(10)\n",
    "print(odds)\n",
    "\n",
    "# Using a loop to print the third value in the list\n",
    "\n",
    "for odd in range(len(odds)):\n",
    "    if odd == 2:\n",
    "        print(odds[odd])\n"
   ]
  }
 ],
 "metadata": {
  "kernelspec": {
   "display_name": "Python 3 (ipykernel)",
   "language": "python",
   "name": "python3"
  },
  "language_info": {
   "codemirror_mode": {
    "name": "ipython",
    "version": 3
   },
   "file_extension": ".py",
   "mimetype": "text/x-python",
   "name": "python",
   "nbconvert_exporter": "python",
   "pygments_lexer": "ipython3",
   "version": "3.12.7"
  }
 },
 "nbformat": 4,
 "nbformat_minor": 5
}
